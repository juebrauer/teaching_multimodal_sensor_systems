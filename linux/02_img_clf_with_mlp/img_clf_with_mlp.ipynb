{
 "cells": [
  {
   "cell_type": "markdown",
   "metadata": {},
   "source": [
    "# Introduction\n",
    "\n",
    "In this notebook we try to classify images with a MLP. Does this work?\n",
    "\n",
    "We try this, since MLPs are normally not used for image classification. Why?\n",
    "\n",
    "Let's learn more about the reason why MLPs are not used for image classification by trying it out!"
   ]
  },
  {
   "cell_type": "markdown",
   "metadata": {},
   "source": [
    "# Check dependencies"
   ]
  },
  {
   "cell_type": "code",
   "execution_count": 1,
   "metadata": {},
   "outputs": [
    {
     "name": "stdout",
     "output_type": "stream",
     "text": [
      "3.3.2\n",
      "1.19.2\n",
      "4.5.1\n",
      "4.0\n",
      "2.3.0\n"
     ]
    }
   ],
   "source": [
    "import matplotlib\n",
    "print(matplotlib.__version__)\n",
    "\n",
    "import numpy as np\n",
    "print(np.__version__)\n",
    "\n",
    "import cv2\n",
    "print(cv2.__version__)\n",
    "\n",
    "import pickle\n",
    "print(pickle.format_version)\n",
    "\n",
    "import tensorflow\n",
    "print(tensorflow.__version__)"
   ]
  },
  {
   "cell_type": "markdown",
   "metadata": {},
   "source": [
    "# Load in the image dataset generated before"
   ]
  },
  {
   "cell_type": "code",
   "execution_count": 2,
   "metadata": {},
   "outputs": [],
   "source": [
    "fname = \"../01_cnn_generating_image_data/persons_icons_dataset.pkl\"\n",
    "\n",
    "fobj = open(fname, \"rb\")\n",
    "dataset = pickle.load(fobj)\n",
    "fobj.close()"
   ]
  },
  {
   "cell_type": "code",
   "execution_count": 3,
   "metadata": {},
   "outputs": [
    {
     "data": {
      "text/plain": [
       "list"
      ]
     },
     "execution_count": 3,
     "metadata": {},
     "output_type": "execute_result"
    }
   ],
   "source": [
    "type(dataset)"
   ]
  },
  {
   "cell_type": "code",
   "execution_count": 4,
   "metadata": {},
   "outputs": [
    {
     "data": {
      "text/plain": [
       "2"
      ]
     },
     "execution_count": 4,
     "metadata": {},
     "output_type": "execute_result"
    }
   ],
   "source": [
    "len(dataset)"
   ]
  },
  {
   "cell_type": "code",
   "execution_count": 5,
   "metadata": {},
   "outputs": [],
   "source": [
    "list_imgs, list_labels = dataset"
   ]
  },
  {
   "cell_type": "code",
   "execution_count": 6,
   "metadata": {},
   "outputs": [
    {
     "data": {
      "text/plain": [
       "500"
      ]
     },
     "execution_count": 6,
     "metadata": {},
     "output_type": "execute_result"
    }
   ],
   "source": [
    "len(list_imgs)"
   ]
  },
  {
   "cell_type": "code",
   "execution_count": 7,
   "metadata": {},
   "outputs": [
    {
     "data": {
      "text/plain": [
       "500"
      ]
     },
     "execution_count": 7,
     "metadata": {},
     "output_type": "execute_result"
    }
   ],
   "source": [
    "len(list_labels)"
   ]
  },
  {
   "cell_type": "code",
   "execution_count": 8,
   "metadata": {},
   "outputs": [
    {
     "data": {
      "text/plain": [
       "[array([[0., 0., 0., ..., 0., 0., 0.],\n",
       "        [0., 0., 0., ..., 0., 0., 0.],\n",
       "        [0., 0., 0., ..., 0., 0., 0.],\n",
       "        ...,\n",
       "        [0., 0., 0., ..., 0., 0., 0.],\n",
       "        [0., 0., 0., ..., 0., 0., 0.],\n",
       "        [0., 0., 0., ..., 0., 0., 0.]]),\n",
       " array([[0., 0., 0., ..., 0., 0., 0.],\n",
       "        [0., 0., 0., ..., 0., 0., 0.],\n",
       "        [0., 0., 0., ..., 0., 0., 0.],\n",
       "        ...,\n",
       "        [0., 0., 0., ..., 0., 0., 0.],\n",
       "        [0., 0., 0., ..., 0., 0., 0.],\n",
       "        [0., 0., 0., ..., 0., 0., 0.]])]"
      ]
     },
     "execution_count": 8,
     "metadata": {},
     "output_type": "execute_result"
    }
   ],
   "source": [
    "list_imgs[:2]"
   ]
  },
  {
   "cell_type": "code",
   "execution_count": 9,
   "metadata": {},
   "outputs": [
    {
     "data": {
      "text/plain": [
       "[2, 2]"
      ]
     },
     "execution_count": 9,
     "metadata": {},
     "output_type": "execute_result"
    }
   ],
   "source": [
    "list_labels[:2]"
   ]
  },
  {
   "cell_type": "code",
   "execution_count": 10,
   "metadata": {},
   "outputs": [
    {
     "data": {
      "image/png": "[encoded data removed]",
      "text/plain": [
       "<Figure size 432x288 with 1 Axes>"
      ]
     },
     "metadata": {
      "needs_background": "light"
     },
     "output_type": "display_data"
    }
   ],
   "source": [
    "import matplotlib.pyplot as plt\n",
    "\n",
    "plt.imshow(list_imgs[0], cmap=\"gray\")\n",
    "plt.show()"
   ]
  },
  {
   "cell_type": "code",
   "execution_count": 11,
   "metadata": {},
   "outputs": [
    {
     "data": {
      "text/plain": [
       "2"
      ]
     },
     "execution_count": 11,
     "metadata": {},
     "output_type": "execute_result"
    }
   ],
   "source": [
    "label = list_labels[0]\n",
    "label"
   ]
  },
  {
   "cell_type": "code",
   "execution_count": 12,
   "metadata": {},
   "outputs": [
    {
     "data": {
      "text/plain": [
       "(0, 4)"
      ]
     },
     "execution_count": 12,
     "metadata": {},
     "output_type": "execute_result"
    }
   ],
   "source": [
    "min(list_labels), max(list_labels)"
   ]
  },
  {
   "cell_type": "code",
   "execution_count": 13,
   "metadata": {},
   "outputs": [
    {
     "data": {
      "text/plain": [
       "5"
      ]
     },
     "execution_count": 13,
     "metadata": {},
     "output_type": "execute_result"
    }
   ],
   "source": [
    "nr_object_classes = max(list_labels)+1\n",
    "nr_object_classes"
   ]
  },
  {
   "cell_type": "markdown",
   "metadata": {},
   "source": [
    "# Prepare input and output matrices"
   ]
  },
  {
   "cell_type": "code",
   "execution_count": 14,
   "metadata": {},
   "outputs": [],
   "source": [
    "example_img = list_imgs[0]"
   ]
  },
  {
   "cell_type": "code",
   "execution_count": 15,
   "metadata": {},
   "outputs": [
    {
     "data": {
      "text/plain": [
       "numpy.ndarray"
      ]
     },
     "execution_count": 15,
     "metadata": {},
     "output_type": "execute_result"
    }
   ],
   "source": [
    "type(example_img)"
   ]
  },
  {
   "cell_type": "code",
   "execution_count": 16,
   "metadata": {},
   "outputs": [
    {
     "data": {
      "text/plain": [
       "(300, 300)"
      ]
     },
     "execution_count": 16,
     "metadata": {},
     "output_type": "execute_result"
    }
   ],
   "source": [
    "example_img.shape"
   ]
  },
  {
   "cell_type": "code",
   "execution_count": 17,
   "metadata": {},
   "outputs": [
    {
     "data": {
      "text/plain": [
       "90000"
      ]
     },
     "execution_count": 17,
     "metadata": {},
     "output_type": "execute_result"
    }
   ],
   "source": [
    "vec_len = example_img.shape[0] * example_img.shape[1]\n",
    "vec_len"
   ]
  },
  {
   "cell_type": "code",
   "execution_count": 18,
   "metadata": {},
   "outputs": [
    {
     "data": {
      "text/plain": [
       "90000"
      ]
     },
     "execution_count": 18,
     "metadata": {},
     "output_type": "execute_result"
    }
   ],
   "source": [
    "example_img.size"
   ]
  },
  {
   "cell_type": "code",
   "execution_count": 19,
   "metadata": {},
   "outputs": [
    {
     "data": {
      "text/plain": [
       "500"
      ]
     },
     "execution_count": 19,
     "metadata": {},
     "output_type": "execute_result"
    }
   ],
   "source": [
    "nr_images = len(list_imgs)\n",
    "nr_images"
   ]
  },
  {
   "cell_type": "code",
   "execution_count": 20,
   "metadata": {},
   "outputs": [],
   "source": [
    "X = np.zeros((nr_images, vec_len))"
   ]
  },
  {
   "cell_type": "code",
   "execution_count": 21,
   "metadata": {},
   "outputs": [
    {
     "data": {
      "text/plain": [
       "(500, 90000)"
      ]
     },
     "execution_count": 21,
     "metadata": {},
     "output_type": "execute_result"
    }
   ],
   "source": [
    "X.shape"
   ]
  },
  {
   "cell_type": "code",
   "execution_count": 22,
   "metadata": {},
   "outputs": [],
   "source": [
    "Y = np.zeros((nr_images, nr_object_classes))"
   ]
  },
  {
   "cell_type": "code",
   "execution_count": 23,
   "metadata": {},
   "outputs": [],
   "source": [
    "def get_one_hot_vec(length, pos):\n",
    "    vec = np.zeros(length)\n",
    "    vec[pos] = 1\n",
    "    return vec"
   ]
  },
  {
   "cell_type": "code",
   "execution_count": 24,
   "metadata": {},
   "outputs": [
    {
     "data": {
      "text/plain": [
       "array([0., 0., 1., 0., 0.])"
      ]
     },
     "execution_count": 24,
     "metadata": {},
     "output_type": "execute_result"
    }
   ],
   "source": [
    "test_vec = get_one_hot_vec(nr_object_classes, 2)\n",
    "test_vec"
   ]
  },
  {
   "cell_type": "code",
   "execution_count": 25,
   "metadata": {},
   "outputs": [],
   "source": [
    "for img_nr in range(0, nr_images):\n",
    "    \n",
    "    # get the next image\n",
    "    img = list_imgs[img_nr]\n",
    "    \n",
    "    # represent image as one long vector\n",
    "    input_vec = img.flatten()\n",
    "    \n",
    "    # save image as data row in input matrix\n",
    "    X[img_nr,:] = input_vec\n",
    "    \n",
    "    # get label (0,1,2,3,or 4)\n",
    "    label = list_labels[img_nr]\n",
    "    \n",
    "    # save label as one-hot encoded vector    \n",
    "    Y[img_nr,:] = get_one_hot_vec(nr_object_classes, label)"
   ]
  },
  {
   "cell_type": "markdown",
   "metadata": {},
   "source": [
    "# Split image data into train and test data"
   ]
  },
  {
   "cell_type": "code",
   "execution_count": 26,
   "metadata": {},
   "outputs": [
    {
     "data": {
      "text/plain": [
       "500"
      ]
     },
     "execution_count": 26,
     "metadata": {},
     "output_type": "execute_result"
    }
   ],
   "source": [
    "N = len(X)\n",
    "N"
   ]
  },
  {
   "cell_type": "code",
   "execution_count": 27,
   "metadata": {},
   "outputs": [
    {
     "data": {
      "text/plain": [
       "250"
      ]
     },
     "execution_count": 27,
     "metadata": {},
     "output_type": "execute_result"
    }
   ],
   "source": [
    "half = int(N/2)\n",
    "half"
   ]
  },
  {
   "cell_type": "code",
   "execution_count": 28,
   "metadata": {},
   "outputs": [],
   "source": [
    "X_train = X[:half]\n",
    "Y_train = Y[:half]\n",
    "\n",
    "X_test  = X[half:]\n",
    "Y_test  = Y[half:]"
   ]
  },
  {
   "cell_type": "code",
   "execution_count": 29,
   "metadata": {},
   "outputs": [
    {
     "data": {
      "text/plain": [
       "(250, 90000)"
      ]
     },
     "execution_count": 29,
     "metadata": {},
     "output_type": "execute_result"
    }
   ],
   "source": [
    "X_train.shape"
   ]
  },
  {
   "cell_type": "code",
   "execution_count": 30,
   "metadata": {},
   "outputs": [
    {
     "data": {
      "text/plain": [
       "(250, 90000)"
      ]
     },
     "execution_count": 30,
     "metadata": {},
     "output_type": "execute_result"
    }
   ],
   "source": [
    "X_test.shape"
   ]
  },
  {
   "cell_type": "code",
   "execution_count": 31,
   "metadata": {},
   "outputs": [
    {
     "data": {
      "text/plain": [
       "250"
      ]
     },
     "execution_count": 31,
     "metadata": {},
     "output_type": "execute_result"
    }
   ],
   "source": [
    "len(Y_train)"
   ]
  },
  {
   "cell_type": "code",
   "execution_count": 32,
   "metadata": {},
   "outputs": [
    {
     "data": {
      "text/plain": [
       "250"
      ]
     },
     "execution_count": 32,
     "metadata": {},
     "output_type": "execute_result"
    }
   ],
   "source": [
    "len(Y_test)"
   ]
  },
  {
   "cell_type": "markdown",
   "metadata": {},
   "source": [
    "# Build the MLP model"
   ]
  },
  {
   "cell_type": "code",
   "execution_count": 48,
   "metadata": {},
   "outputs": [
    {
     "name": "stdout",
     "output_type": "stream",
     "text": [
      "Model: \"sequential\"\n",
      "_________________________________________________________________\n",
      "Layer (type)                 Output Shape              Param #   \n",
      "=================================================================\n",
      "hidden_layer_1 (Dense)       (None, 50)                4500050   \n",
      "_________________________________________________________________\n",
      "hidden_layer_2 (Dense)       (None, 25)                1275      \n",
      "_________________________________________________________________\n",
      "output_layer (Dense)         (None, 5)                 130       \n",
      "=================================================================\n",
      "Total params: 4,501,455\n",
      "Trainable params: 4,501,455\n",
      "Non-trainable params: 0\n",
      "_________________________________________________________________\n"
     ]
    }
   ],
   "source": [
    "from tensorflow.keras.models import Sequential\n",
    "from tensorflow.keras import layers\n",
    "from tensorflow.keras.layers import Dense\n",
    "from tensorflow.keras import backend as K\n",
    "\n",
    "K.clear_session()\n",
    "\n",
    "nr_hidden_neurons_layer1 = 50\n",
    "nr_hidden_neurons_layer2 = 25\n",
    "nr_output_neurons = nr_object_classes\n",
    "\n",
    "model = Sequential()\n",
    "model.add(Dense(nr_hidden_neurons_layer1, activation=\"relu\", name=\"hidden_layer_1\", input_dim=vec_len))\n",
    "model.add(Dense(nr_hidden_neurons_layer2, activation=\"relu\", name=\"hidden_layer_2\"))\n",
    "model.add(Dense(nr_output_neurons, activation=\"linear\", name=\"output_layer\"))\n",
    "\n",
    "model.compile(loss='mean_squared_error', optimizer='sgd')\n",
    "\n",
    "model.summary()"
   ]
  },
  {
   "cell_type": "markdown",
   "metadata": {},
   "source": [
    "# Test the model before training"
   ]
  },
  {
   "cell_type": "code",
   "execution_count": 49,
   "metadata": {},
   "outputs": [],
   "source": [
    "def test_model(model, X_test, Y_test, show_some_predictions=False):\n",
    "    preds = model.predict(X_test)\n",
    "    \n",
    "    nr_test_samples = Y_test.shape[0]\n",
    "    correct = 0\n",
    "    for test_nr in range(0,nr_test_samples):        \n",
    "        should_label = np.argmax(Y_test[test_nr])\n",
    "        is_label     = np.argmax(preds[test_nr])\n",
    "        \n",
    "        if should_label==is_label:\n",
    "            correct += 1\n",
    "        \n",
    "        if show_some_predictions and test_nr<10:\n",
    "            print(\"Should: {0} vs. Is: {1}\".format(Y_test[test_nr], preds[test_nr]))\n",
    "            print(\"Should label: {0} vs. Is label: {1}\\n\".format(should_label, is_label))            \n",
    "            \n",
    "    correctly_classified_percent = (correct / nr_test_samples) * 100.0\n",
    "    print(\"Correctly classified: {0:.2f}\".format(correctly_classified_percent))"
   ]
  },
  {
   "cell_type": "code",
   "execution_count": 50,
   "metadata": {},
   "outputs": [
    {
     "name": "stdout",
     "output_type": "stream",
     "text": [
      "Should: [0. 0. 0. 1. 0.] vs. Is: [ 0.08539777 -0.04383679  0.1300529   0.02824651 -0.09275603]\n",
      "Should label: 3 vs. Is label: 2\n",
      "\n",
      "Should: [0. 0. 1. 0. 0.] vs. Is: [ 0.01056091 -0.0902172   0.17940634  0.05802331 -0.03595814]\n",
      "Should label: 2 vs. Is label: 2\n",
      "\n",
      "Should: [0. 0. 0. 1. 0.] vs. Is: [-0.02934222 -0.08629819  0.1517542   0.02823925  0.01129801]\n",
      "Should label: 3 vs. Is label: 2\n",
      "\n",
      "Should: [0. 0. 0. 0. 1.] vs. Is: [ 0.08075342 -0.05763577  0.18586943  0.0689133  -0.07246027]\n",
      "Should label: 4 vs. Is label: 2\n",
      "\n",
      "Should: [0. 1. 0. 0. 0.] vs. Is: [ 0.02490337 -0.10026268  0.10215046  0.08572008 -0.06079626]\n",
      "Should label: 1 vs. Is label: 2\n",
      "\n",
      "Should: [1. 0. 0. 0. 0.] vs. Is: [ 0.0725394  -0.0248275   0.06198974  0.0174985  -0.04376858]\n",
      "Should label: 0 vs. Is label: 0\n",
      "\n",
      "Should: [0. 0. 1. 0. 0.] vs. Is: [ 0.11192266  0.02887678  0.19548482  0.147779   -0.11836965]\n",
      "Should label: 2 vs. Is label: 2\n",
      "\n",
      "Should: [0. 0. 1. 0. 0.] vs. Is: [-0.00813738 -0.02248607  0.06266528 -0.05525431 -0.03515659]\n",
      "Should label: 2 vs. Is label: 2\n",
      "\n",
      "Should: [0. 1. 0. 0. 0.] vs. Is: [-0.02865616 -0.10989424  0.00352896 -0.01916143  0.00077899]\n",
      "Should label: 1 vs. Is label: 2\n",
      "\n",
      "Should: [0. 0. 1. 0. 0.] vs. Is: [ 0.06597838  0.01635208  0.21128666  0.07074348 -0.10161899]\n",
      "Should label: 2 vs. Is label: 2\n",
      "\n",
      "Correctly classified: 20.40\n"
     ]
    }
   ],
   "source": [
    "test_model(model, X_test, Y_test, show_some_predictions=True)"
   ]
  },
  {
   "cell_type": "code",
   "execution_count": 51,
   "metadata": {},
   "outputs": [
    {
     "name": "stdout",
     "output_type": "stream",
     "text": [
      "Should: [0. 0. 1. 0. 0.] vs. Is: [-0.08458976  0.00974172  0.06373041 -0.08594471 -0.0561556 ]\n",
      "Should label: 2 vs. Is label: 2\n",
      "\n",
      "Should: [0. 0. 1. 0. 0.] vs. Is: [-0.00321781 -0.07662577  0.07128339  0.0333743  -0.01544544]\n",
      "Should label: 2 vs. Is label: 2\n",
      "\n",
      "Should: [0. 0. 0. 0. 1.] vs. Is: [-0.01452462 -0.0795062   0.03752126 -0.00867483 -0.01098401]\n",
      "Should label: 4 vs. Is label: 2\n",
      "\n",
      "Should: [1. 0. 0. 0. 0.] vs. Is: [ 0.04183546 -0.0972762   0.08376031  0.0105455  -0.05911036]\n",
      "Should label: 0 vs. Is label: 2\n",
      "\n",
      "Should: [1. 0. 0. 0. 0.] vs. Is: [ 0.06345933 -0.0481087   0.02768949  0.05652401 -0.05940202]\n",
      "Should label: 0 vs. Is label: 0\n",
      "\n",
      "Should: [1. 0. 0. 0. 0.] vs. Is: [ 0.00430148 -0.04363136  0.06672464  0.04500688 -0.12349624]\n",
      "Should label: 0 vs. Is label: 2\n",
      "\n",
      "Should: [0. 0. 0. 0. 1.] vs. Is: [-0.0102099  -0.0361618   0.15399343  0.02574774 -0.05578332]\n",
      "Should label: 4 vs. Is label: 2\n",
      "\n",
      "Should: [0. 0. 1. 0. 0.] vs. Is: [ 0.05802858 -0.08158381 -0.06416079  0.04878206 -0.10715464]\n",
      "Should label: 2 vs. Is label: 0\n",
      "\n",
      "Should: [0. 0. 0. 1. 0.] vs. Is: [ 0.111421   -0.10186714 -0.05182556  0.03123023 -0.09262638]\n",
      "Should label: 3 vs. Is label: 0\n",
      "\n",
      "Should: [0. 1. 0. 0. 0.] vs. Is: [ 0.09883937 -0.00897116  0.03127087  0.13083234 -0.09864855]\n",
      "Should label: 1 vs. Is label: 3\n",
      "\n",
      "Correctly classified: 20.00\n"
     ]
    }
   ],
   "source": [
    "test_model(model, X_train, Y_train, show_some_predictions=True)"
   ]
  },
  {
   "cell_type": "markdown",
   "metadata": {},
   "source": [
    "# Train the MLP"
   ]
  },
  {
   "cell_type": "code",
   "execution_count": 52,
   "metadata": {},
   "outputs": [
    {
     "name": "stdout",
     "output_type": "stream",
     "text": [
      "Epoch 1/100\n",
      "8/8 [==============================] - 0s 14ms/step - loss: 0.2037\n",
      "Epoch 2/100\n",
      "8/8 [==============================] - 0s 14ms/step - loss: 0.1865\n",
      "Epoch 3/100\n",
      "8/8 [==============================] - 0s 14ms/step - loss: 0.1739\n",
      "Epoch 4/100\n",
      "8/8 [==============================] - 0s 14ms/step - loss: 0.1641\n",
      "Epoch 5/100\n",
      "8/8 [==============================] - 0s 15ms/step - loss: 0.1562\n",
      "Epoch 6/100\n",
      "8/8 [==============================] - 0s 14ms/step - loss: 0.1493\n",
      "Epoch 7/100\n",
      "8/8 [==============================] - 0s 15ms/step - loss: 0.1434\n",
      "Epoch 8/100\n",
      "8/8 [==============================] - 0s 15ms/step - loss: 0.1379\n",
      "Epoch 9/100\n",
      "8/8 [==============================] - 0s 15ms/step - loss: 0.1329\n",
      "Epoch 10/100\n",
      "8/8 [==============================] - 0s 14ms/step - loss: 0.1282\n",
      "Epoch 11/100\n",
      "8/8 [==============================] - 0s 14ms/step - loss: 0.1240\n",
      "Epoch 12/100\n",
      "8/8 [==============================] - 0s 14ms/step - loss: 0.1200\n",
      "Epoch 13/100\n",
      "8/8 [==============================] - 0s 15ms/step - loss: 0.1163\n",
      "Epoch 14/100\n",
      "8/8 [==============================] - 0s 14ms/step - loss: 0.1128\n",
      "Epoch 15/100\n",
      "8/8 [==============================] - 0s 15ms/step - loss: 0.1096\n",
      "Epoch 16/100\n",
      "8/8 [==============================] - 0s 14ms/step - loss: 0.1067\n",
      "Epoch 17/100\n",
      "8/8 [==============================] - 0s 15ms/step - loss: 0.1039\n",
      "Epoch 18/100\n",
      "8/8 [==============================] - 0s 15ms/step - loss: 0.1013\n",
      "Epoch 19/100\n",
      "8/8 [==============================] - 0s 17ms/step - loss: 0.0988\n",
      "Epoch 20/100\n",
      "8/8 [==============================] - 0s 15ms/step - loss: 0.0965\n",
      "Epoch 21/100\n",
      "8/8 [==============================] - 0s 18ms/step - loss: 0.0943\n",
      "Epoch 22/100\n",
      "8/8 [==============================] - 0s 16ms/step - loss: 0.0921\n",
      "Epoch 23/100\n",
      "8/8 [==============================] - 0s 16ms/step - loss: 0.0902\n",
      "Epoch 24/100\n",
      "8/8 [==============================] - 0s 15ms/step - loss: 0.0882\n",
      "Epoch 25/100\n",
      "8/8 [==============================] - 0s 18ms/step - loss: 0.0863\n",
      "Epoch 26/100\n",
      "8/8 [==============================] - 0s 18ms/step - loss: 0.0845\n",
      "Epoch 27/100\n",
      "8/8 [==============================] - 0s 15ms/step - loss: 0.0828\n",
      "Epoch 28/100\n",
      "8/8 [==============================] - 0s 14ms/step - loss: 0.0811\n",
      "Epoch 29/100\n",
      "8/8 [==============================] - 0s 16ms/step - loss: 0.0794\n",
      "Epoch 30/100\n",
      "8/8 [==============================] - 0s 15ms/step - loss: 0.0779\n",
      "Epoch 31/100\n",
      "8/8 [==============================] - 0s 14ms/step - loss: 0.0764\n",
      "Epoch 32/100\n",
      "8/8 [==============================] - 0s 15ms/step - loss: 0.0749\n",
      "Epoch 33/100\n",
      "8/8 [==============================] - 0s 14ms/step - loss: 0.0735\n",
      "Epoch 34/100\n",
      "8/8 [==============================] - 0s 17ms/step - loss: 0.0722\n",
      "Epoch 35/100\n",
      "8/8 [==============================] - 0s 19ms/step - loss: 0.0709\n",
      "Epoch 36/100\n",
      "8/8 [==============================] - 0s 15ms/step - loss: 0.0696\n",
      "Epoch 37/100\n",
      "8/8 [==============================] - 0s 15ms/step - loss: 0.0684\n",
      "Epoch 38/100\n",
      "8/8 [==============================] - 0s 15ms/step - loss: 0.0672\n",
      "Epoch 39/100\n",
      "8/8 [==============================] - 0s 15ms/step - loss: 0.0661\n",
      "Epoch 40/100\n",
      "8/8 [==============================] - 0s 18ms/step - loss: 0.0650\n",
      "Epoch 41/100\n",
      "8/8 [==============================] - 0s 19ms/step - loss: 0.0639\n",
      "Epoch 42/100\n",
      "8/8 [==============================] - 0s 15ms/step - loss: 0.0628\n",
      "Epoch 43/100\n",
      "8/8 [==============================] - 0s 15ms/step - loss: 0.0618\n",
      "Epoch 44/100\n",
      "8/8 [==============================] - 0s 15ms/step - loss: 0.0607\n",
      "Epoch 45/100\n",
      "8/8 [==============================] - 0s 15ms/step - loss: 0.0597\n",
      "Epoch 46/100\n",
      "8/8 [==============================] - 0s 15ms/step - loss: 0.0588\n",
      "Epoch 47/100\n",
      "8/8 [==============================] - 0s 14ms/step - loss: 0.0578\n",
      "Epoch 48/100\n",
      "8/8 [==============================] - 0s 15ms/step - loss: 0.0569\n",
      "Epoch 49/100\n",
      "8/8 [==============================] - 0s 15ms/step - loss: 0.0559\n",
      "Epoch 50/100\n",
      "8/8 [==============================] - 0s 15ms/step - loss: 0.0550\n",
      "Epoch 51/100\n",
      "8/8 [==============================] - 0s 16ms/step - loss: 0.0541\n",
      "Epoch 52/100\n",
      "8/8 [==============================] - 0s 18ms/step - loss: 0.0533\n",
      "Epoch 53/100\n",
      "8/8 [==============================] - 0s 17ms/step - loss: 0.0524\n",
      "Epoch 54/100\n",
      "8/8 [==============================] - 0s 13ms/step - loss: 0.0516\n",
      "Epoch 55/100\n",
      "8/8 [==============================] - 0s 13ms/step - loss: 0.0508\n",
      "Epoch 56/100\n",
      "8/8 [==============================] - 0s 13ms/step - loss: 0.0500\n",
      "Epoch 57/100\n",
      "8/8 [==============================] - 0s 12ms/step - loss: 0.0492\n",
      "Epoch 58/100\n",
      "8/8 [==============================] - 0s 13ms/step - loss: 0.0485\n",
      "Epoch 59/100\n",
      "8/8 [==============================] - 0s 13ms/step - loss: 0.0477\n",
      "Epoch 60/100\n",
      "8/8 [==============================] - 0s 17ms/step - loss: 0.0470\n",
      "Epoch 61/100\n",
      "8/8 [==============================] - 0s 13ms/step - loss: 0.0462\n",
      "Epoch 62/100\n",
      "8/8 [==============================] - 0s 12ms/step - loss: 0.0455\n",
      "Epoch 63/100\n",
      "8/8 [==============================] - 0s 12ms/step - loss: 0.0448\n",
      "Epoch 64/100\n",
      "8/8 [==============================] - 0s 14ms/step - loss: 0.0441\n",
      "Epoch 65/100\n",
      "8/8 [==============================] - 0s 18ms/step - loss: 0.0435\n",
      "Epoch 66/100\n",
      "8/8 [==============================] - 0s 13ms/step - loss: 0.0428\n",
      "Epoch 67/100\n",
      "8/8 [==============================] - 0s 18ms/step - loss: 0.0421\n",
      "Epoch 68/100\n",
      "8/8 [==============================] - 0s 13ms/step - loss: 0.0415\n",
      "Epoch 69/100\n",
      "8/8 [==============================] - 0s 17ms/step - loss: 0.0408\n",
      "Epoch 70/100\n",
      "8/8 [==============================] - 0s 16ms/step - loss: 0.0402\n",
      "Epoch 71/100\n",
      "8/8 [==============================] - 0s 13ms/step - loss: 0.0395\n",
      "Epoch 72/100\n",
      "8/8 [==============================] - 0s 12ms/step - loss: 0.0390\n",
      "Epoch 73/100\n",
      "8/8 [==============================] - 0s 12ms/step - loss: 0.0384\n",
      "Epoch 74/100\n",
      "8/8 [==============================] - 0s 13ms/step - loss: 0.0378\n",
      "Epoch 75/100\n",
      "8/8 [==============================] - 0s 13ms/step - loss: 0.0372\n",
      "Epoch 76/100\n",
      "8/8 [==============================] - 0s 13ms/step - loss: 0.0366\n",
      "Epoch 77/100\n",
      "8/8 [==============================] - 0s 17ms/step - loss: 0.0361\n",
      "Epoch 78/100\n",
      "8/8 [==============================] - 0s 13ms/step - loss: 0.0356\n",
      "Epoch 79/100\n",
      "8/8 [==============================] - 0s 13ms/step - loss: 0.0350\n",
      "Epoch 80/100\n",
      "8/8 [==============================] - 0s 12ms/step - loss: 0.0345\n",
      "Epoch 81/100\n",
      "8/8 [==============================] - 0s 13ms/step - loss: 0.0340\n",
      "Epoch 82/100\n",
      "8/8 [==============================] - 0s 14ms/step - loss: 0.0335\n",
      "Epoch 83/100\n",
      "8/8 [==============================] - 0s 13ms/step - loss: 0.0330\n",
      "Epoch 84/100\n",
      "8/8 [==============================] - 0s 13ms/step - loss: 0.0325: 0s - loss: 0.031\n",
      "Epoch 85/100\n",
      "8/8 [==============================] - 0s 13ms/step - loss: 0.0320\n",
      "Epoch 86/100\n",
      "8/8 [==============================] - 0s 14ms/step - loss: 0.0316\n",
      "Epoch 87/100\n",
      "8/8 [==============================] - 0s 13ms/step - loss: 0.0311\n",
      "Epoch 88/100\n",
      "8/8 [==============================] - 0s 13ms/step - loss: 0.0306\n",
      "Epoch 89/100\n",
      "8/8 [==============================] - 0s 14ms/step - loss: 0.0301\n",
      "Epoch 90/100\n",
      "8/8 [==============================] - 0s 13ms/step - loss: 0.0297\n",
      "Epoch 91/100\n",
      "8/8 [==============================] - 0s 14ms/step - loss: 0.0293\n",
      "Epoch 92/100\n",
      "8/8 [==============================] - 0s 13ms/step - loss: 0.0288\n",
      "Epoch 93/100\n",
      "8/8 [==============================] - 0s 14ms/step - loss: 0.0284\n",
      "Epoch 94/100\n",
      "8/8 [==============================] - 0s 13ms/step - loss: 0.0280\n",
      "Epoch 95/100\n",
      "8/8 [==============================] - 0s 13ms/step - loss: 0.0276\n",
      "Epoch 96/100\n",
      "8/8 [==============================] - 0s 13ms/step - loss: 0.0271\n",
      "Epoch 97/100\n",
      "8/8 [==============================] - 0s 13ms/step - loss: 0.0267\n",
      "Epoch 98/100\n",
      "8/8 [==============================] - 0s 13ms/step - loss: 0.0264\n",
      "Epoch 99/100\n",
      "8/8 [==============================] - 0s 13ms/step - loss: 0.0260\n",
      "Epoch 100/100\n",
      "8/8 [==============================] - 0s 11ms/step - loss: 0.0256\n"
     ]
    }
   ],
   "source": [
    "history = model.fit(X_train,Y_train, epochs=100, verbose=1)"
   ]
  },
  {
   "cell_type": "code",
   "execution_count": 53,
   "metadata": {},
   "outputs": [
    {
     "data": {
      "text/plain": [
       "tensorflow.python.keras.callbacks.History"
      ]
     },
     "execution_count": 53,
     "metadata": {},
     "output_type": "execute_result"
    }
   ],
   "source": [
    "type(history)"
   ]
  },
  {
   "cell_type": "code",
   "execution_count": 54,
   "metadata": {},
   "outputs": [
    {
     "data": {
      "text/plain": [
       "dict"
      ]
     },
     "execution_count": 54,
     "metadata": {},
     "output_type": "execute_result"
    }
   ],
   "source": [
    "type(history.history)"
   ]
  },
  {
   "cell_type": "code",
   "execution_count": 55,
   "metadata": {},
   "outputs": [
    {
     "data": {
      "text/plain": [
       "{'loss': [0.20366676151752472,\n",
       "  0.18651552498340607,\n",
       "  0.17386996746063232,\n",
       "  0.1640997678041458,\n",
       "  0.1562006026506424,\n",
       "  0.14933766424655914,\n",
       "  0.14336518943309784,\n",
       "  0.1378789246082306,\n",
       "  0.1328665316104889,\n",
       "  0.12820352613925934,\n",
       "  0.12397480010986328,\n",
       "  0.11997602880001068,\n",
       "  0.1163172572851181,\n",
       "  0.11281067132949829,\n",
       "  0.10963469743728638,\n",
       "  0.10671842843294144,\n",
       "  0.10390245914459229,\n",
       "  0.10126931220293045,\n",
       "  0.09881199151277542,\n",
       "  0.09647587686777115,\n",
       "  0.09426818042993546,\n",
       "  0.09211575984954834,\n",
       "  0.0901583582162857,\n",
       "  0.08818298578262329,\n",
       "  0.08629667013883591,\n",
       "  0.08447571843862534,\n",
       "  0.08276459574699402,\n",
       "  0.08106168359518051,\n",
       "  0.07943519949913025,\n",
       "  0.07785963267087936,\n",
       "  0.07635485380887985,\n",
       "  0.07490912079811096,\n",
       "  0.07349727302789688,\n",
       "  0.07216667383909225,\n",
       "  0.07085926085710526,\n",
       "  0.06960220634937286,\n",
       "  0.06837451457977295,\n",
       "  0.06720054149627686,\n",
       "  0.06607117503881454,\n",
       "  0.0649651363492012,\n",
       "  0.06387018412351608,\n",
       "  0.0627942830324173,\n",
       "  0.06177201122045517,\n",
       "  0.06074521690607071,\n",
       "  0.059727743268013,\n",
       "  0.05876140668988228,\n",
       "  0.05780981481075287,\n",
       "  0.05685581639409065,\n",
       "  0.05592888966202736,\n",
       "  0.05502038821578026,\n",
       "  0.05413137748837471,\n",
       "  0.053261421620845795,\n",
       "  0.05242709070444107,\n",
       "  0.05159129947423935,\n",
       "  0.050790827721357346,\n",
       "  0.04999934881925583,\n",
       "  0.04922179877758026,\n",
       "  0.04846348613500595,\n",
       "  0.047706227749586105,\n",
       "  0.04696302115917206,\n",
       "  0.046241674572229385,\n",
       "  0.04554099962115288,\n",
       "  0.04483313113451004,\n",
       "  0.044143401086330414,\n",
       "  0.043472886085510254,\n",
       "  0.042792439460754395,\n",
       "  0.04212354123592377,\n",
       "  0.04145631939172745,\n",
       "  0.04082858934998512,\n",
       "  0.04018528014421463,\n",
       "  0.03954826667904854,\n",
       "  0.03895857185125351,\n",
       "  0.03835030272603035,\n",
       "  0.037773147225379944,\n",
       "  0.037203919142484665,\n",
       "  0.03664073348045349,\n",
       "  0.03609640151262283,\n",
       "  0.035560231655836105,\n",
       "  0.035021889954805374,\n",
       "  0.034500766545534134,\n",
       "  0.03399571403861046,\n",
       "  0.033481959253549576,\n",
       "  0.03299654647707939,\n",
       "  0.03250972926616669,\n",
       "  0.03202924504876137,\n",
       "  0.031565193086862564,\n",
       "  0.031080171465873718,\n",
       "  0.030615638941526413,\n",
       "  0.030145376920700073,\n",
       "  0.02970385178923607,\n",
       "  0.02926407754421234,\n",
       "  0.0288179162889719,\n",
       "  0.0283986646682024,\n",
       "  0.02797868475317955,\n",
       "  0.027551056817173958,\n",
       "  0.02714778482913971,\n",
       "  0.026748593896627426,\n",
       "  0.026354480534791946,\n",
       "  0.02596474066376686,\n",
       "  0.025587650015950203]}"
      ]
     },
     "execution_count": 55,
     "metadata": {},
     "output_type": "execute_result"
    }
   ],
   "source": [
    "history.history"
   ]
  },
  {
   "cell_type": "code",
   "execution_count": 56,
   "metadata": {},
   "outputs": [
    {
     "data": {
      "image/png": "[encoded data removed]",
      "text/plain": [
       "<Figure size 432x288 with 1 Axes>"
      ]
     },
     "metadata": {
      "needs_background": "light"
     },
     "output_type": "display_data"
    }
   ],
   "source": [
    "plt.plot(history.history[\"loss\"])\n",
    "plt.xlabel(\"epoch\", fontsize=15)\n",
    "plt.ylabel(\"loss\", fontsize=15)\n",
    "plt.show()"
   ]
  },
  {
   "cell_type": "markdown",
   "metadata": {},
   "source": [
    "# Test the model after training"
   ]
  },
  {
   "cell_type": "code",
   "execution_count": 57,
   "metadata": {},
   "outputs": [
    {
     "name": "stdout",
     "output_type": "stream",
     "text": [
      "Correctly classified: 99.60\n"
     ]
    }
   ],
   "source": [
    "test_model(model, X_train, Y_train)"
   ]
  },
  {
   "cell_type": "code",
   "execution_count": 58,
   "metadata": {},
   "outputs": [
    {
     "name": "stdout",
     "output_type": "stream",
     "text": [
      "Correctly classified: 20.80\n"
     ]
    }
   ],
   "source": [
    "test_model(model, X_test, Y_test)"
   ]
  },
  {
   "cell_type": "markdown",
   "metadata": {},
   "source": [
    "# Conclusions for the MLP\n",
    "\n",
    "The test of this MLP for image classification shows.\n",
    "\n",
    "It performs perfectly on the **training data**, since it used it huge sets of parameters to directly map the few input images to the desired output values.\n",
    "\n",
    "However, on new images / **test data** (just translated variants of the original image), the MLP is not besser than randomly guessing the class of the image.\n",
    "\n",
    "By this we show that image classification with a MLP is not a good idea. Instead, we need another model that is able to come up with a representation of the image that is (mostly) invariant to translations (and all the other transformations, e.g. rotation).\n",
    "\n",
    "This will lead us to Convolutional Neural Networks (CNN)."
   ]
  }
 ],
 "metadata": {
  "kernelspec": {
   "display_name": "Python 3",
   "language": "python",
   "name": "python3"
  },
  "language_info": {
   "codemirror_mode": {
    "name": "ipython",
    "version": 3
   },
   "file_extension": ".py",
   "mimetype": "text/x-python",
   "name": "python",
   "nbconvert_exporter": "python",
   "pygments_lexer": "ipython3",
   "version": "3.8.5"
  },
  "toc": {
   "base_numbering": 1,
   "nav_menu": {},
   "number_sections": true,
   "sideBar": true,
   "skip_h1_title": false,
   "title_cell": "Table of Contents",
   "title_sidebar": "Contents",
   "toc_cell": false,
   "toc_position": {},
   "toc_section_display": true,
   "toc_window_display": true
  }
 },
 "nbformat": 4,
 "nbformat_minor": 4
}
